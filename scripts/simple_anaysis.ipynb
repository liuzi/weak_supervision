{
 "cells": [
  {
   "cell_type": "code",
   "execution_count": 3,
   "metadata": {},
   "outputs": [
    {
     "data": {
      "text/html": [
       "<div>\n",
       "<style scoped>\n",
       "    .dataframe tbody tr th:only-of-type {\n",
       "        vertical-align: middle;\n",
       "    }\n",
       "\n",
       "    .dataframe tbody tr th {\n",
       "        vertical-align: top;\n",
       "    }\n",
       "\n",
       "    .dataframe thead th {\n",
       "        text-align: right;\n",
       "    }\n",
       "</style>\n",
       "<table border=\"1\" class=\"dataframe\">\n",
       "  <thead>\n",
       "    <tr style=\"text-align: right;\">\n",
       "      <th></th>\n",
       "      <th>count</th>\n",
       "      <th>mean</th>\n",
       "      <th>std</th>\n",
       "      <th>min</th>\n",
       "      <th>25%</th>\n",
       "      <th>50%</th>\n",
       "      <th>75%</th>\n",
       "      <th>max</th>\n",
       "    </tr>\n",
       "    <tr>\n",
       "      <th>label</th>\n",
       "      <th></th>\n",
       "      <th></th>\n",
       "      <th></th>\n",
       "      <th></th>\n",
       "      <th></th>\n",
       "      <th></th>\n",
       "      <th></th>\n",
       "      <th></th>\n",
       "    </tr>\n",
       "  </thead>\n",
       "  <tbody>\n",
       "    <tr>\n",
       "      <th>0</th>\n",
       "      <td>113.0</td>\n",
       "      <td>0.043919</td>\n",
       "      <td>0.050217</td>\n",
       "      <td>-0.145901</td>\n",
       "      <td>0.016369</td>\n",
       "      <td>0.042909</td>\n",
       "      <td>0.071320</td>\n",
       "      <td>0.207143</td>\n",
       "    </tr>\n",
       "    <tr>\n",
       "      <th>1</th>\n",
       "      <td>392.0</td>\n",
       "      <td>0.044018</td>\n",
       "      <td>0.030611</td>\n",
       "      <td>-0.072222</td>\n",
       "      <td>0.023599</td>\n",
       "      <td>0.044426</td>\n",
       "      <td>0.064666</td>\n",
       "      <td>0.138514</td>\n",
       "    </tr>\n",
       "  </tbody>\n",
       "</table>\n",
       "</div>"
      ],
      "text/plain": [
       "       count      mean       std       min       25%       50%       75%  \\\n",
       "label                                                                      \n",
       "0      113.0  0.043919  0.050217 -0.145901  0.016369  0.042909  0.071320   \n",
       "1      392.0  0.044018  0.030611 -0.072222  0.023599  0.044426  0.064666   \n",
       "\n",
       "            max  \n",
       "label            \n",
       "0      0.207143  \n",
       "1      0.138514  "
      ]
     },
     "execution_count": 3,
     "metadata": {},
     "output_type": "execute_result"
    }
   ],
   "source": [
    "import pandas as pd\n",
    "polarity = pd.read_csv('polarity_score.tsv',header=None,skiprows=None)\n",
    "polarity.columns=['label','score']\n",
    "# polarity\n",
    "# ax = polarity.plot.hist(column=[\"score\"], by=\"label\", figsize=(10, 8))\n",
    "polarity.groupby(['label'])['score'].describe()"
   ]
  },
  {
   "cell_type": "code",
   "execution_count": 4,
   "metadata": {},
   "outputs": [
    {
     "data": {
      "text/html": [
       "<div>\n",
       "<style scoped>\n",
       "    .dataframe tbody tr th:only-of-type {\n",
       "        vertical-align: middle;\n",
       "    }\n",
       "\n",
       "    .dataframe tbody tr th {\n",
       "        vertical-align: top;\n",
       "    }\n",
       "\n",
       "    .dataframe thead th {\n",
       "        text-align: right;\n",
       "    }\n",
       "</style>\n",
       "<table border=\"1\" class=\"dataframe\">\n",
       "  <thead>\n",
       "    <tr style=\"text-align: right;\">\n",
       "      <th></th>\n",
       "      <th>count</th>\n",
       "      <th>mean</th>\n",
       "      <th>std</th>\n",
       "      <th>min</th>\n",
       "      <th>25%</th>\n",
       "      <th>50%</th>\n",
       "      <th>75%</th>\n",
       "      <th>max</th>\n",
       "    </tr>\n",
       "    <tr>\n",
       "      <th>label</th>\n",
       "      <th></th>\n",
       "      <th></th>\n",
       "      <th></th>\n",
       "      <th></th>\n",
       "      <th></th>\n",
       "      <th></th>\n",
       "      <th></th>\n",
       "      <th></th>\n",
       "    </tr>\n",
       "  </thead>\n",
       "  <tbody>\n",
       "    <tr>\n",
       "      <th>0</th>\n",
       "      <td>113.0</td>\n",
       "      <td>0.318091</td>\n",
       "      <td>0.070773</td>\n",
       "      <td>0.087179</td>\n",
       "      <td>0.285901</td>\n",
       "      <td>0.321878</td>\n",
       "      <td>0.359356</td>\n",
       "      <td>0.511458</td>\n",
       "    </tr>\n",
       "    <tr>\n",
       "      <th>1</th>\n",
       "      <td>392.0</td>\n",
       "      <td>0.332203</td>\n",
       "      <td>0.046591</td>\n",
       "      <td>0.077778</td>\n",
       "      <td>0.304500</td>\n",
       "      <td>0.333748</td>\n",
       "      <td>0.364351</td>\n",
       "      <td>0.447017</td>\n",
       "    </tr>\n",
       "  </tbody>\n",
       "</table>\n",
       "</div>"
      ],
      "text/plain": [
       "       count      mean       std       min       25%       50%       75%  \\\n",
       "label                                                                      \n",
       "0      113.0  0.318091  0.070773  0.087179  0.285901  0.321878  0.359356   \n",
       "1      392.0  0.332203  0.046591  0.077778  0.304500  0.333748  0.364351   \n",
       "\n",
       "            max  \n",
       "label            \n",
       "0      0.511458  \n",
       "1      0.447017  "
      ]
     },
     "execution_count": 4,
     "metadata": {},
     "output_type": "execute_result"
    }
   ],
   "source": [
    "import pandas as pd\n",
    "subjectivity = pd.read_csv('subjectivity_score.tsv',header=None,skiprows=None)\n",
    "subjectivity.columns=['label','score']\n",
    "# polarity\n",
    "# ax = polarity.plot.hist(column=[\"score\"], by=\"label\", figsize=(10, 8))\n",
    "subjectivity.groupby(['label'])['score'].describe()"
   ]
  },
  {
   "cell_type": "markdown",
   "metadata": {},
   "source": [
    "## Textblob\n",
    "https://textblob.readthedocs.io/en/dev/quickstart.html#part-of-speech-tagging\n",
    "use textblob to process language"
   ]
  },
  {
   "cell_type": "code",
   "execution_count": null,
   "metadata": {},
   "outputs": [],
   "source": []
  }
 ],
 "metadata": {
  "interpreter": {
   "hash": "b42d6f35b2dda43691dc708c10361c51f9fcbf8d1e8f4cb4e6ba305266523cf0"
  },
  "kernelspec": {
   "display_name": "Python 3.7.10 ('snorkel')",
   "language": "python",
   "name": "python3"
  },
  "language_info": {
   "codemirror_mode": {
    "name": "ipython",
    "version": 3
   },
   "file_extension": ".py",
   "mimetype": "text/x-python",
   "name": "python",
   "nbconvert_exporter": "python",
   "pygments_lexer": "ipython3",
   "version": "3.7.10"
  },
  "orig_nbformat": 4
 },
 "nbformat": 4,
 "nbformat_minor": 2
}
